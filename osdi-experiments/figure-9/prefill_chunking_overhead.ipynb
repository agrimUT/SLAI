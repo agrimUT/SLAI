{
 "cells": [
  {
   "cell_type": "code",
   "execution_count": 11,
   "metadata": {},
   "outputs": [],
   "source": [
    "import numpy as np\n",
    "import pandas as pd\n",
    "import matplotlib.pyplot as plt\n",
    "import seaborn as sns\n",
    "import yaml\n",
    "\n",
    "\n",
    "from pathlib import Path\n",
    "from typing import Dict"
   ]
  },
  {
   "cell_type": "code",
   "execution_count": 12,
   "metadata": {},
   "outputs": [],
   "source": [
    "def tuple_constructor(loader, node):\n",
    "    return tuple(loader.construct_sequence(node))\n",
    "\n",
    "# yaml.add_constructor('tag:yaml.org,2002:python/tuple', tuple_constructor)"
   ]
  },
  {
   "cell_type": "code",
   "execution_count": 13,
   "metadata": {},
   "outputs": [],
   "source": [
    "OUTPUT_DIR = f\"{Path.cwd()}/benchmark_output\"\n",
    "MODEL_NAME = \"01-ai/Yi-34B-200K\"\n",
    "MODEL_TP_DIMENSION = 2\n",
    "\n",
    "SEQUENCE_LENGTHS = [2048, 4096, 8192, 16384]\n",
    "CHUNK_SIZES = [512, 1024, 2048] + [max(SEQUENCE_LENGTHS)]"
   ]
  },
  {
   "cell_type": "code",
   "execution_count": 14,
   "metadata": {},
   "outputs": [],
   "source": [
    "def generate_runs():\n",
    "    devices = \",\".join([str(x) for x in range(MODEL_TP_DIMENSION)])\n",
    "    commands = []\n",
    "    for sequence_length in SEQUENCE_LENGTHS:\n",
    "        for chunk_size in CHUNK_SIZES:\n",
    "            commands.append(\n",
    "                f\"CUDA_VISIBLE_DEVICES={devices} python sarathi/benchmark/main.py \\\\\\n\"\n",
    "                f\"--output_dir {OUTPUT_DIR} \\\\\\n\"\n",
    "                f\"--model_name {MODEL_NAME} \\\\\\n\"\n",
    "                f\"--model_max_model_len {max(SEQUENCE_LENGTHS)} \\\\\\n\"\n",
    "                f\"--cluster_num_replicas 1 \\\\\\n\"\n",
    "                f\"--model_tensor_parallel_degree {MODEL_TP_DIMENSION} \\\\\\n\"\n",
    "                f\"--model_pipeline_parallel_degree 1 \\\\\\n\"\n",
    "                f\"--request_generator_provider synthetic \\\\\\n\"\n",
    "                f\"--synthetic_request_generator_length_provider synthetic \\\\\\n\"\n",
    "                f\"--synthetic_request_generator_length_provider uniform \\\\\\n\"\n",
    "                f\"--synthetic_request_generator_interval_provider static \\\\\\n\"\n",
    "                f\"--synthetic_request_generator_num_requests 5 \\\\\\n\"\n",
    "                f\"--uniform_request_length_generator_max_tokens {sequence_length} \\\\\\n\"\n",
    "                f\"--uniform_request_length_generator_min_tokens {sequence_length} \\\\\\n\"\n",
    "                f\"--uniform_request_length_generator_prefill_to_decode_ratio {sequence_length - 1} \\\\\\n\"\n",
    "                f\"--metrics_store_keep_individual_batch_metrics true \\\\\\n\"\n",
    "                f\"--metrics_store_enable_op_level_metrics false \\\\\\n\"\n",
    "                f\"--replica_scheduler_provider sarathi \\\\\\n\"\n",
    "                f\"--replica_scheduler_max_batch_size 1 \\\\\\n\"\n",
    "                f\"--sarathi_scheduler_chunk_size {chunk_size} \\\\\\n\"\n",
    "                f\"--sarathi_scheduler_enable_rolling_prefills false \\\\\\n\"\n",
    "                f\"--sarathi_scheduler_enable_dynamic_chunking_schedule false\\n\"\n",
    "            )\n",
    "    with open(f\"prefill_chunking_overhead_runs.sh\", \"w\") as f:\n",
    "        f.write(\"#!/bin/bash\\n\")\n",
    "        f.write(\"set -x\\n\")\n",
    "        for command in commands:\n",
    "            f.write(command + \"\\n\")"
   ]
  },
  {
   "cell_type": "code",
   "execution_count": 15,
   "metadata": {},
   "outputs": [],
   "source": [
    "def _get_run_directories():\n",
    "    rootdir = Path(OUTPUT_DIR)\n",
    "    subdirectory_list = [\n",
    "        directory for directory in rootdir.iterdir() if directory.is_dir()\n",
    "    ]\n",
    "    return subdirectory_list"
   ]
  },
  {
   "cell_type": "code",
   "execution_count": 16,
   "metadata": {},
   "outputs": [],
   "source": [
    "def _process_run(\n",
    "    benchmark_config: Dict[str, object],\n",
    "    batch_metrics: pd.DataFrame,\n",
    "):\n",
    "    prefill_length = benchmark_config[\"uniform_request_length_generator_max_tokens\"] - 1\n",
    "    chunk_size = benchmark_config[\"sarathi_scheduler_chunk_size\"]\n",
    "    num_requests = benchmark_config[\"synthetic_request_generator_num_requests\"]\n",
    "\n",
    "    batch_metrics = batch_metrics[batch_metrics[\"batch_num_decode_tokens\"] == 0]\n",
    "    prefill_execution_time = batch_metrics[\"batch_execution_time\"].sum() * 1000\n",
    "    return {\n",
    "        \"prefill_length\": prefill_length,\n",
    "        \"chunk_size\": str(chunk_size),\n",
    "        \"prefill_execution_time\": prefill_execution_time / num_requests,\n",
    "    }"
   ]
  },
  {
   "cell_type": "code",
   "execution_count": 17,
   "metadata": {},
   "outputs": [],
   "source": [
    "# Process runs to find throughput gain and decode speedup\n",
    "def _process_runs():\n",
    "    run_directories = _get_run_directories()\n",
    "    run_directories.sort()\n",
    "    num_runs = len(SEQUENCE_LENGTHS) * len(CHUNK_SIZES)\n",
    "    run_directories = run_directories[-num_runs:]\n",
    "\n",
    "    baseline = {}\n",
    "    datapoints = []\n",
    "\n",
    "    yaml.add_constructor(\"tag:yaml.org,2002:python/tuple\", tuple_constructor)\n",
    "    for run_dir in run_directories:\n",
    "        try:\n",
    "            with open(\n",
    "                f\"{run_dir}/benchmark_config.yml\", \"r\"\n",
    "            ) as benchmark_config_file, open(\n",
    "                f\"{run_dir}/replica_0/batch_metrics.csv\", \"r\"\n",
    "            ) as batch_metrics_file:\n",
    "                yaml.add_constructor(\"tag:yaml.org,2002:python/tuple\", tuple_constructor)\n",
    "                benchmark_config = yaml.safe_load(benchmark_config_file)\n",
    "                batch_metrics = pd.read_csv(batch_metrics_file)\n",
    "                datapoint = _process_run(benchmark_config, batch_metrics)\n",
    "                if int(datapoint[\"chunk_size\"]) == max(SEQUENCE_LENGTHS):\n",
    "                    baseline[datapoint[\"prefill_length\"]] = datapoint.copy()\n",
    "                datapoints.append(datapoint)\n",
    "        except FileNotFoundError as e:\n",
    "            print(f\"Skipping {run_dir} due to {e}\")\n",
    "    for datapoint in datapoints:\n",
    "        datapoint[\"prefill_execution_time_relative\"] = (\n",
    "            datapoint[\"prefill_execution_time\"]\n",
    "            / baseline[datapoint[\"prefill_length\"]][\"prefill_execution_time\"]\n",
    "        )\n",
    "    return pd.DataFrame(datapoints)"
   ]
  },
  {
   "cell_type": "code",
   "execution_count": 18,
   "metadata": {},
   "outputs": [],
   "source": [
    "def plot():\n",
    "    df = _process_runs()\n",
    "    df.to_csv(\"chunking-overhead.csv\", index=False)\n",
    "\n",
    "    sns.set_style(\"whitegrid\")\n",
    "    g = sns.FacetGrid(df, col='prefill_length', sharex=False, sharey=True)\n",
    "    g.map(sns.barplot, \"chunk_size\", 'prefill_execution_time_relative')\n",
    "    plt.show()"
   ]
  },
  {
   "cell_type": "code",
   "execution_count": 19,
   "metadata": {},
   "outputs": [],
   "source": [
    "# generate_runs()"
   ]
  },
  {
   "cell_type": "code",
   "execution_count": 20,
   "metadata": {},
   "outputs": [
    {
     "name": "stderr",
     "output_type": "stream",
     "text": [
      "/home/amey/sarathi-lean/env/lib/python3.10/site-packages/seaborn/axisgrid.py:718: UserWarning: Using the barplot function without specifying `order` is likely to produce an incorrect plot.\n",
      "  warnings.warn(warning)\n"
     ]
    },
    {
     "data": {
      "image/png": "[encoded data removed]",
      "text/plain": [
       "<Figure size 1200x300 with 4 Axes>"
      ]
     },
     "metadata": {},
     "output_type": "display_data"
    }
   ],
   "source": [
    "plot()"
   ]
  }
 ],
 "metadata": {
  "kernelspec": {
   "display_name": ".venv",
   "language": "python",
   "name": "python3"
  },
  "language_info": {
   "codemirror_mode": {
    "name": "ipython",
    "version": 3
   },
   "file_extension": ".py",
   "mimetype": "text/x-python",
   "name": "python",
   "nbconvert_exporter": "python",
   "pygments_lexer": "ipython3",
   "version": "3.10.14"
  }
 },
 "nbformat": 4,
 "nbformat_minor": 2
}
